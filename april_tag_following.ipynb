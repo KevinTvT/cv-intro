{
 "cells": [
  {
   "cell_type": "code",
   "execution_count": 1,
   "metadata": {},
   "outputs": [],
   "source": [
    "import cv2\n",
    "from dt_apriltags import Detector\n",
    "import matplotlib.pyplot as plt\n",
    "import numpy as np\n",
    "import april_tag_following as atf\n",
    "from pid import PID"
   ]
  },
  {
   "cell_type": "code",
   "execution_count": 2,
   "metadata": {},
   "outputs": [],
   "source": [
    "vcap = cv2.VideoCapture(\"AprilTagTest.mkv\")\n",
    "\n",
    "fps = int(vcap.get(cv2.CAP_PROP_FPS))\n",
    "width = int(vcap.get(cv2.CAP_PROP_FRAME_WIDTH))\n",
    "height = int(vcap.get(cv2.CAP_PROP_FRAME_HEIGHT))\n",
    "\n",
    "output_file = 'april_tags.avi'\n",
    "fourcc = cv2.VideoWriter_fourcc(*'XVID')\n",
    "output_video = cv2.VideoWriter(output_file, fourcc, 30, (width, height))\n",
    "\n",
    "\n",
    "x_pid = PID(0.158, 0.0, 0.025)\n",
    "y_pid = PID(0.108, 0.0, 0.025)\n",
    "\n",
    "frequency = 1\n",
    "count = 0\n"
   ]
  },
  {
   "cell_type": "code",
   "execution_count": 3,
   "metadata": {},
   "outputs": [
    {
     "name": "stdout",
     "output_type": "stream",
     "text": [
      "(27, -34)\n",
      "(21, -24)\n",
      "(21, -24)\n",
      "(21, -24)\n",
      "(21, -24)\n",
      "(21, -23)\n",
      "(21, -23)\n",
      "(21, -23)\n",
      "(21, -23)\n",
      "(21, -23)\n",
      "(21, -23)\n",
      "(21, -23)\n",
      "(22, -23)\n",
      "(22, -23)\n",
      "(23, -23)\n",
      "(23, -23)\n",
      "(24, -23)\n",
      "(25, -22)\n",
      "(27, -22)\n",
      "(28, -21)\n",
      "(30, -20)\n",
      "(32, -20)\n",
      "(33, -19)\n",
      "(35, -19)\n",
      "(37, -18)\n",
      "(39, -18)\n",
      "(65, -16)\n"
     ]
    },
    {
     "name": "stderr",
     "output_type": "stream",
     "text": [
      "Error, more than one new minimum found.\n"
     ]
    },
    {
     "name": "stdout",
     "output_type": "stream",
     "text": [
      "(70, -16)\n",
      "(72, -16)\n"
     ]
    },
    {
     "name": "stderr",
     "output_type": "stream",
     "text": [
      "Error, more than one new minimum found.\n"
     ]
    },
    {
     "name": "stdout",
     "output_type": "stream",
     "text": [
      "(74, -16)\n",
      "(76, -16)\n",
      "(77, -16)\n",
      "(78, -16)\n",
      "(80, -16)\n",
      "(80, -16)\n",
      "(80, -16)\n",
      "(81, -16)\n",
      "(81, -16)\n",
      "(80, -16)\n",
      "(79, -16)\n",
      "(79, -16)\n",
      "(78, -16)\n",
      "(77, -17)\n",
      "(76, -17)\n",
      "(76, -17)\n",
      "(77, -17)\n",
      "(78, -17)\n",
      "(79, -17)\n",
      "(80, -17)\n",
      "(81, -17)\n",
      "(81, -17)\n",
      "(81, -17)\n",
      "(82, -17)\n",
      "(82, -17)\n",
      "(82, -17)\n",
      "(83, -17)\n",
      "(84, -17)\n",
      "(84, -17)\n",
      "(85, -17)\n",
      "(85, -17)\n",
      "(84, -17)\n",
      "(83, -17)\n",
      "(82, -17)\n",
      "(80, -17)\n",
      "(80, -16)\n",
      "(80, -16)\n",
      "(78, -16)\n",
      "(77, -16)\n",
      "(77, -15)\n",
      "(75, -15)\n",
      "(72, -15)\n",
      "(70, -15)\n",
      "(69, -15)\n",
      "(67, -14)\n",
      "(65, -14)\n",
      "(63, -14)\n",
      "(61, -14)\n",
      "(59, -14)\n",
      "(57, -14)\n",
      "(55, -13)\n"
     ]
    },
    {
     "ename": "",
     "evalue": "",
     "output_type": "error",
     "traceback": [
      "\u001b[1;31mCannot execute code, session has been disposed. Please try restarting the Kernel."
     ]
    },
    {
     "ename": "",
     "evalue": "",
     "output_type": "error",
     "traceback": [
      "\u001b[1;31mThe Kernel crashed while executing code in the the current cell or a previous cell. Please review the code in the cell(s) to identify a possible cause of the failure. Click <a href='https://aka.ms/vscodeJupyterKernelCrash'>here</a> for more info. View Jupyter <a href='command:jupyter.viewOutput'>log</a> for further details."
     ]
    }
   ],
   "source": [
    "while True:\n",
    "    if count%frequency == 0:\n",
    "        ret, frame = vcap.read()\n",
    "\n",
    "        if not ret:\n",
    "            break\n",
    "        try:\n",
    "            processed_image, tags, x_raw_error, y_raw_error = atf.detect_april_tags(frame)\n",
    "        except:\n",
    "            continue\n",
    "\n",
    "        x_error = x_pid.update(x_raw_error)\n",
    "        y_error = y_pid.update(y_raw_error)\n",
    "\n",
    "        #print(f\"Center: {(frame.shape[1]/2, frame.shape[0]/2)}\")\n",
    "\n",
    "        #print(f\"X-error(PID): {x_error}\")\n",
    "        #print(f\"Y-error(PID): {y_error}\")\n",
    "\n",
    "        errStr = f\"({int(x_error)}, {int(y_error)})\"\n",
    "        print(errStr)\n",
    "        cv2.putText(processed_image, errStr, org=(250, 200), fontFace=cv2.FONT_HERSHEY_SIMPLEX, \n",
    "                    fontScale=2,\n",
    "                    color=(255, 0, 0),\n",
    "                    thickness=5, \n",
    "                    lineType=cv2.LINE_AA)\n",
    "\n",
    "        # plt.imshow(processed_image)\n",
    "        # plt.show()\n",
    "        output_video.write(processed_image)\n",
    "        \n",
    "    count +=1\n",
    "vcap.release()\n",
    "output_video.release()\n"
   ]
  }
 ],
 "metadata": {
  "kernelspec": {
   "display_name": "bluecv",
   "language": "python",
   "name": "python3"
  },
  "language_info": {
   "codemirror_mode": {
    "name": "ipython",
    "version": 3
   },
   "file_extension": ".py",
   "mimetype": "text/x-python",
   "name": "python",
   "nbconvert_exporter": "python",
   "pygments_lexer": "ipython3",
   "version": "3.9.2"
  },
  "orig_nbformat": 4
 },
 "nbformat": 4,
 "nbformat_minor": 2
}
